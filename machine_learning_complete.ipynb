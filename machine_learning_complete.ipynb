{
  "nbformat": 4,
  "nbformat_minor": 0,
  "metadata": {
    "colab": {
      "provenance": [],
      "collapsed_sections": [],
      "include_colab_link": true
    },
    "kernelspec": {
      "name": "python3",
      "display_name": "Python 3"
    },
    "language_info": {
      "name": "python"
    }
  },
  "cells": [
    {
      "cell_type": "markdown",
      "metadata": {
        "id": "view-in-github",
        "colab_type": "text"
      },
      "source": [
        "<a href=\"https://colab.research.google.com/github/hritikgupta7368/Diabetes-prediction-system/blob/main/machine_learning_complete.ipynb\" target=\"_parent\"><img src=\"https://colab.research.google.com/assets/colab-badge.svg\" alt=\"Open In Colab\"/></a>"
      ]
    },
    {
      "cell_type": "code",
      "execution_count": 15,
      "metadata": {
        "id": "yxVJpeyXnbj0",
        "colab": {
          "base_uri": "https://localhost:8080/"
        },
        "outputId": "1aba6d24-b62c-4d30-acfd-7a5d89d36062"
      },
      "outputs": [
        {
          "output_type": "stream",
          "name": "stdout",
          "text": [
            "[[ 0.04601433 -0.34096773  1.18359575 -1.28821221 -0.69289057  0.71168975\n",
            "  -0.84827977 -0.27575966]]\n",
            "patient does not have diabetes\n"
          ]
        },
        {
          "output_type": "stream",
          "name": "stderr",
          "text": [
            "/usr/local/lib/python3.7/dist-packages/sklearn/base.py:451: UserWarning: X does not have valid feature names, but StandardScaler was fitted with feature names\n",
            "  \"X does not have valid feature names, but\"\n"
          ]
        }
      ],
      "source": [
        "import pandas as pd\n",
        "import numpy as np\n",
        "from sklearn.preprocessing import StandardScaler\n",
        "from sklearn.model_selection import train_test_split\n",
        "from sklearn import svm\n",
        "from sklearn.metrics import accuracy_score\n",
        "\n",
        "diabetes_dataset = pd.read_csv('/content/diabetes.csv')\n",
        "diabetes_dataset.shape\n",
        "X = diabetes_dataset.drop(columns ='Outcome',axis=1)\n",
        "Y = diabetes_dataset['Outcome']\n",
        "scaler = StandardScaler()\n",
        "scaler.fit(X)\n",
        "standard_data = scaler.transform(X)\n",
        "X = standard_data\n",
        "Y = diabetes_dataset['Outcome']\n",
        "X_train,X_test,Y_train,Y_test = train_test_split(X,Y,test_size = 0.2,stratify=Y,random_state=2)\n",
        "\n",
        "classifier = svm.SVC(kernel='linear')\n",
        "classifier.fit(X_train, Y_train)\n",
        "X_train_prediction = classifier.predict(X_train)\n",
        "accuracyscore = accuracy_score(X_train_prediction,Y_train)\n",
        "\n",
        "#our prediction model\n",
        "input = (4,110,92,0,0,37.6,0.191,30)\n",
        "input_array = np.asarray(input)\n",
        "reshaped_array = input_array.reshape(1,-1)\n",
        "std_data = scaler.transform(reshaped_array)\n",
        "print(std_data)\n",
        "ans = classifier.predict(std_data)\n",
        "if(ans == 0):\n",
        "  print(\"patient does not have diabetes\")\n",
        "else:\n",
        "  print(\"patient has diabetes\")  \n",
        "\n"
      ]
    }
  ]
}